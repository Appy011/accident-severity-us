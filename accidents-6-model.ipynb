{
 "cells": [
  {
   "cell_type": "code",
   "execution_count": 30,
   "metadata": {},
   "outputs": [],
   "source": [
    "import pandas as pd\n",
    "from pandas import Timestamp\n",
    "import datetime\n",
    "import numpy as np\n",
    "import seaborn as sns\n",
    "import matplotlib.pyplot as plt\n",
    "%matplotlib inline\n",
    "plt.style.use('fast')\n",
    "\n",
    "from sklearn.neighbors import KNeighborsRegressor\n",
    "from sklearn import neighbors"
   ]
  },
  {
   "cell_type": "markdown",
   "metadata": {},
   "source": [
    "## Dropped rows (with null):\n",
    "> • Precipitation(in) (1998358)<br>• End_Lat (2246264)<br>• End_Lng (2246264)<br>• Number (1917605)<br>• Wind_Chill(F) (1852623)<br>• Airport_Code (5691)<br>• Pressure(in) (48142)<br>• Wind_Direction (45101)<br>• Timezone (3163)\n",
    "\n",
    "---\n",
    "## Dropped rows (no null):\n",
    "> • ID<br>• Source (MapQuest/Bing)<br>• Country (all USA)<br>• Street (157,947 street names)<br>• Turning_Loop (because all False)"
   ]
  },
  {
   "cell_type": "code",
   "execution_count": 2,
   "metadata": {},
   "outputs": [],
   "source": [
    "df = pd.read_csv('data/3-accidents-dummies-next.csv')"
   ]
  },
  {
   "cell_type": "code",
   "execution_count": 3,
   "metadata": {},
   "outputs": [
    {
     "data": {
      "text/html": [
       "<div>\n",
       "<style scoped>\n",
       "    .dataframe tbody tr th:only-of-type {\n",
       "        vertical-align: middle;\n",
       "    }\n",
       "\n",
       "    .dataframe tbody tr th {\n",
       "        vertical-align: top;\n",
       "    }\n",
       "\n",
       "    .dataframe thead th {\n",
       "        text-align: right;\n",
       "    }\n",
       "</style>\n",
       "<table border=\"1\" class=\"dataframe\">\n",
       "  <thead>\n",
       "    <tr style=\"text-align: right;\">\n",
       "      <th></th>\n",
       "      <th>Unnamed: 0</th>\n",
       "      <th>TMC</th>\n",
       "      <th>Severity</th>\n",
       "      <th>Start_Time</th>\n",
       "      <th>End_Time</th>\n",
       "      <th>Distance(mi)</th>\n",
       "      <th>Side</th>\n",
       "      <th>City</th>\n",
       "      <th>County</th>\n",
       "      <th>State</th>\n",
       "      <th>...</th>\n",
       "      <th>Railway</th>\n",
       "      <th>Roundabout</th>\n",
       "      <th>Station</th>\n",
       "      <th>Stop</th>\n",
       "      <th>Traffic_Calming</th>\n",
       "      <th>Traffic_Signal</th>\n",
       "      <th>Sunrise_Sunset</th>\n",
       "      <th>Civil_Twilight</th>\n",
       "      <th>Nautical_Twilight</th>\n",
       "      <th>Astronomical_Twilight</th>\n",
       "    </tr>\n",
       "  </thead>\n",
       "  <tbody>\n",
       "    <tr>\n",
       "      <td>0</td>\n",
       "      <td>0</td>\n",
       "      <td>201.0</td>\n",
       "      <td>3</td>\n",
       "      <td>2016-02-08 05:46:00</td>\n",
       "      <td>2016-02-08 11:00:00</td>\n",
       "      <td>0.01</td>\n",
       "      <td>R</td>\n",
       "      <td>Dayton</td>\n",
       "      <td>Montgomery</td>\n",
       "      <td>OH</td>\n",
       "      <td>...</td>\n",
       "      <td>0</td>\n",
       "      <td>0</td>\n",
       "      <td>0</td>\n",
       "      <td>0</td>\n",
       "      <td>0</td>\n",
       "      <td>0</td>\n",
       "      <td>0</td>\n",
       "      <td>0</td>\n",
       "      <td>0</td>\n",
       "      <td>0</td>\n",
       "    </tr>\n",
       "    <tr>\n",
       "      <td>1</td>\n",
       "      <td>1</td>\n",
       "      <td>201.0</td>\n",
       "      <td>2</td>\n",
       "      <td>2016-02-08 06:07:59</td>\n",
       "      <td>2016-02-08 06:37:59</td>\n",
       "      <td>0.01</td>\n",
       "      <td>L</td>\n",
       "      <td>Reynoldsburg</td>\n",
       "      <td>Franklin</td>\n",
       "      <td>OH</td>\n",
       "      <td>...</td>\n",
       "      <td>0</td>\n",
       "      <td>0</td>\n",
       "      <td>0</td>\n",
       "      <td>0</td>\n",
       "      <td>0</td>\n",
       "      <td>0</td>\n",
       "      <td>0</td>\n",
       "      <td>0</td>\n",
       "      <td>0</td>\n",
       "      <td>1</td>\n",
       "    </tr>\n",
       "    <tr>\n",
       "      <td>2</td>\n",
       "      <td>2</td>\n",
       "      <td>201.0</td>\n",
       "      <td>2</td>\n",
       "      <td>2016-02-08 06:49:27</td>\n",
       "      <td>2016-02-08 07:19:27</td>\n",
       "      <td>0.01</td>\n",
       "      <td>R</td>\n",
       "      <td>Williamsburg</td>\n",
       "      <td>Clermont</td>\n",
       "      <td>OH</td>\n",
       "      <td>...</td>\n",
       "      <td>0</td>\n",
       "      <td>0</td>\n",
       "      <td>0</td>\n",
       "      <td>0</td>\n",
       "      <td>0</td>\n",
       "      <td>1</td>\n",
       "      <td>0</td>\n",
       "      <td>0</td>\n",
       "      <td>1</td>\n",
       "      <td>1</td>\n",
       "    </tr>\n",
       "    <tr>\n",
       "      <td>3</td>\n",
       "      <td>3</td>\n",
       "      <td>201.0</td>\n",
       "      <td>3</td>\n",
       "      <td>2016-02-08 07:23:34</td>\n",
       "      <td>2016-02-08 07:53:34</td>\n",
       "      <td>0.01</td>\n",
       "      <td>R</td>\n",
       "      <td>Dayton</td>\n",
       "      <td>Montgomery</td>\n",
       "      <td>OH</td>\n",
       "      <td>...</td>\n",
       "      <td>0</td>\n",
       "      <td>0</td>\n",
       "      <td>0</td>\n",
       "      <td>0</td>\n",
       "      <td>0</td>\n",
       "      <td>0</td>\n",
       "      <td>0</td>\n",
       "      <td>1</td>\n",
       "      <td>1</td>\n",
       "      <td>1</td>\n",
       "    </tr>\n",
       "    <tr>\n",
       "      <td>4</td>\n",
       "      <td>4</td>\n",
       "      <td>201.0</td>\n",
       "      <td>2</td>\n",
       "      <td>2016-02-08 07:39:07</td>\n",
       "      <td>2016-02-08 08:09:07</td>\n",
       "      <td>0.01</td>\n",
       "      <td>R</td>\n",
       "      <td>Dayton</td>\n",
       "      <td>Montgomery</td>\n",
       "      <td>OH</td>\n",
       "      <td>...</td>\n",
       "      <td>0</td>\n",
       "      <td>0</td>\n",
       "      <td>0</td>\n",
       "      <td>0</td>\n",
       "      <td>0</td>\n",
       "      <td>1</td>\n",
       "      <td>1</td>\n",
       "      <td>1</td>\n",
       "      <td>1</td>\n",
       "      <td>1</td>\n",
       "    </tr>\n",
       "  </tbody>\n",
       "</table>\n",
       "<p>5 rows × 33 columns</p>\n",
       "</div>"
      ],
      "text/plain": [
       "   Unnamed: 0    TMC  Severity           Start_Time             End_Time  \\\n",
       "0           0  201.0         3  2016-02-08 05:46:00  2016-02-08 11:00:00   \n",
       "1           1  201.0         2  2016-02-08 06:07:59  2016-02-08 06:37:59   \n",
       "2           2  201.0         2  2016-02-08 06:49:27  2016-02-08 07:19:27   \n",
       "3           3  201.0         3  2016-02-08 07:23:34  2016-02-08 07:53:34   \n",
       "4           4  201.0         2  2016-02-08 07:39:07  2016-02-08 08:09:07   \n",
       "\n",
       "   Distance(mi) Side          City      County State  ...  Railway Roundabout  \\\n",
       "0          0.01    R        Dayton  Montgomery    OH  ...        0          0   \n",
       "1          0.01    L  Reynoldsburg    Franklin    OH  ...        0          0   \n",
       "2          0.01    R  Williamsburg    Clermont    OH  ...        0          0   \n",
       "3          0.01    R        Dayton  Montgomery    OH  ...        0          0   \n",
       "4          0.01    R        Dayton  Montgomery    OH  ...        0          0   \n",
       "\n",
       "   Station  Stop  Traffic_Calming  Traffic_Signal Sunrise_Sunset  \\\n",
       "0        0     0                0               0              0   \n",
       "1        0     0                0               0              0   \n",
       "2        0     0                0               1              0   \n",
       "3        0     0                0               0              0   \n",
       "4        0     0                0               1              1   \n",
       "\n",
       "   Civil_Twilight  Nautical_Twilight  Astronomical_Twilight  \n",
       "0               0                  0                      0  \n",
       "1               0                  0                      1  \n",
       "2               0                  1                      1  \n",
       "3               1                  1                      1  \n",
       "4               1                  1                      1  \n",
       "\n",
       "[5 rows x 33 columns]"
      ]
     },
     "execution_count": 3,
     "metadata": {},
     "output_type": "execute_result"
    }
   ],
   "source": [
    "df.head()"
   ]
  },
  {
   "cell_type": "code",
   "execution_count": 4,
   "metadata": {},
   "outputs": [
    {
     "data": {
      "text/plain": [
       "Index(['Unnamed: 0', 'TMC', 'Severity', 'Start_Time', 'End_Time',\n",
       "       'Distance(mi)', 'Side', 'City', 'County', 'State', 'Zipcode',\n",
       "       'Weather_Timestamp', 'Temperature', 'Humidity_pct', 'Visibility_mi',\n",
       "       'Windspeed_mph', 'Weather_Condition', 'Amenity', 'Bump', 'Crossing',\n",
       "       'Give_Way', 'Junction', 'No_Exit', 'Railway', 'Roundabout', 'Station',\n",
       "       'Stop', 'Traffic_Calming', 'Traffic_Signal', 'Sunrise_Sunset',\n",
       "       'Civil_Twilight', 'Nautical_Twilight', 'Astronomical_Twilight'],\n",
       "      dtype='object')"
      ]
     },
     "execution_count": 4,
     "metadata": {},
     "output_type": "execute_result"
    }
   ],
   "source": [
    "df.columns"
   ]
  },
  {
   "cell_type": "code",
   "execution_count": 5,
   "metadata": {},
   "outputs": [],
   "source": [
    "df.drop('Unnamed: 0', 1, inplace=True)"
   ]
  },
  {
   "cell_type": "code",
   "execution_count": 6,
   "metadata": {
    "scrolled": true
   },
   "outputs": [
    {
     "data": {
      "text/plain": [
       "Index(['TMC', 'Severity', 'Start_Time', 'End_Time', 'Distance(mi)', 'Side',\n",
       "       'City', 'County', 'State', 'Zipcode', 'Weather_Timestamp',\n",
       "       'Temperature', 'Humidity_pct', 'Visibility_mi', 'Windspeed_mph',\n",
       "       'Weather_Condition', 'Amenity', 'Bump', 'Crossing', 'Give_Way',\n",
       "       'Junction', 'No_Exit', 'Railway', 'Roundabout', 'Station', 'Stop',\n",
       "       'Traffic_Calming', 'Traffic_Signal', 'Sunrise_Sunset', 'Civil_Twilight',\n",
       "       'Nautical_Twilight', 'Astronomical_Twilight'],\n",
       "      dtype='object')"
      ]
     },
     "execution_count": 6,
     "metadata": {},
     "output_type": "execute_result"
    }
   ],
   "source": [
    "df.columns"
   ]
  },
  {
   "cell_type": "code",
   "execution_count": 7,
   "metadata": {},
   "outputs": [
    {
     "data": {
      "text/plain": [
       "201.0    2551829\n",
       "241.0     213424\n",
       "245.0      34751\n",
       "229.0      22197\n",
       "203.0      16238\n",
       "222.0      12282\n",
       "244.0      10769\n",
       "406.0       8789\n",
       "246.0       6170\n",
       "202.0       5806\n",
       "343.0       5670\n",
       "247.0       4526\n",
       "236.0       2050\n",
       "206.0       1120\n",
       "248.0        991\n",
       "339.0        741\n",
       "341.0        482\n",
       "336.0         78\n",
       "200.0         62\n",
       "239.0         51\n",
       "351.0          5\n",
       "Name: TMC, dtype: int64"
      ]
     },
     "execution_count": 7,
     "metadata": {},
     "output_type": "execute_result"
    }
   ],
   "source": [
    "df.TMC.value_counts()"
   ]
  },
  {
   "cell_type": "code",
   "execution_count": 8,
   "metadata": {},
   "outputs": [],
   "source": [
    "california = df[df['State'] == 'CA']"
   ]
  },
  {
   "cell_type": "code",
   "execution_count": 9,
   "metadata": {},
   "outputs": [
    {
     "data": {
      "text/plain": [
       "Index(['TMC', 'Severity', 'Start_Time', 'End_Time', 'Distance(mi)', 'Side',\n",
       "       'City', 'County', 'State', 'Zipcode', 'Weather_Timestamp',\n",
       "       'Temperature', 'Humidity_pct', 'Visibility_mi', 'Windspeed_mph',\n",
       "       'Weather_Condition', 'Amenity', 'Bump', 'Crossing', 'Give_Way',\n",
       "       'Junction', 'No_Exit', 'Railway', 'Roundabout', 'Station', 'Stop',\n",
       "       'Traffic_Calming', 'Traffic_Signal', 'Sunrise_Sunset', 'Civil_Twilight',\n",
       "       'Nautical_Twilight', 'Astronomical_Twilight'],\n",
       "      dtype='object')"
      ]
     },
     "execution_count": 9,
     "metadata": {},
     "output_type": "execute_result"
    }
   ],
   "source": [
    "california.columns"
   ]
  },
  {
   "cell_type": "markdown",
   "metadata": {},
   "source": [
    "## Extract day of week\n",
    "> Make additional column for 'day_of_week' based on 'Start_Time'<br>0-Monday<br>1-Tuesday<br>2-Wednesday<br>3-Thursday<br>4-Friday<br>5-Saturday<br>6-Sunday"
   ]
  },
  {
   "cell_type": "code",
   "execution_count": 11,
   "metadata": {},
   "outputs": [],
   "source": [
    "df['day_of_week']=df['Start_Time'].apply(lambda x: pd.Timestamp(x))"
   ]
  },
  {
   "cell_type": "code",
   "execution_count": 12,
   "metadata": {},
   "outputs": [],
   "source": [
    "df['day_of_week']=df['day_of_week'].apply(lambda x: x.dayofweek)"
   ]
  },
  {
   "cell_type": "code",
   "execution_count": 13,
   "metadata": {},
   "outputs": [
    {
     "data": {
      "text/plain": [
       "Index(['TMC', 'Severity', 'Start_Time', 'End_Time', 'Distance(mi)', 'Side',\n",
       "       'City', 'County', 'State', 'Zipcode', 'Weather_Timestamp',\n",
       "       'Temperature', 'Humidity_pct', 'Visibility_mi', 'Windspeed_mph',\n",
       "       'Weather_Condition', 'Amenity', 'Bump', 'Crossing', 'Give_Way',\n",
       "       'Junction', 'No_Exit', 'Railway', 'Roundabout', 'Station', 'Stop',\n",
       "       'Traffic_Calming', 'Traffic_Signal', 'Sunrise_Sunset', 'Civil_Twilight',\n",
       "       'Nautical_Twilight', 'Astronomical_Twilight', 'day_of_week'],\n",
       "      dtype='object')"
      ]
     },
     "execution_count": 13,
     "metadata": {},
     "output_type": "execute_result"
    }
   ],
   "source": [
    "df.columns"
   ]
  },
  {
   "cell_type": "code",
   "execution_count": 16,
   "metadata": {},
   "outputs": [
    {
     "data": {
      "text/html": [
       "<div>\n",
       "<style scoped>\n",
       "    .dataframe tbody tr th:only-of-type {\n",
       "        vertical-align: middle;\n",
       "    }\n",
       "\n",
       "    .dataframe tbody tr th {\n",
       "        vertical-align: top;\n",
       "    }\n",
       "\n",
       "    .dataframe thead th {\n",
       "        text-align: right;\n",
       "    }\n",
       "</style>\n",
       "<table border=\"1\" class=\"dataframe\">\n",
       "  <thead>\n",
       "    <tr style=\"text-align: right;\">\n",
       "      <th></th>\n",
       "      <th>day_of_week</th>\n",
       "    </tr>\n",
       "  </thead>\n",
       "  <tbody>\n",
       "    <tr>\n",
       "      <td>1</td>\n",
       "      <td>530496</td>\n",
       "    </tr>\n",
       "    <tr>\n",
       "      <td>2</td>\n",
       "      <td>524529</td>\n",
       "    </tr>\n",
       "    <tr>\n",
       "      <td>4</td>\n",
       "      <td>522272</td>\n",
       "    </tr>\n",
       "    <tr>\n",
       "      <td>3</td>\n",
       "      <td>513900</td>\n",
       "    </tr>\n",
       "    <tr>\n",
       "      <td>0</td>\n",
       "      <td>494681</td>\n",
       "    </tr>\n",
       "    <tr>\n",
       "      <td>5</td>\n",
       "      <td>164973</td>\n",
       "    </tr>\n",
       "    <tr>\n",
       "      <td>6</td>\n",
       "      <td>147180</td>\n",
       "    </tr>\n",
       "  </tbody>\n",
       "</table>\n",
       "</div>"
      ],
      "text/plain": [
       "   day_of_week\n",
       "1       530496\n",
       "2       524529\n",
       "4       522272\n",
       "3       513900\n",
       "0       494681\n",
       "5       164973\n",
       "6       147180"
      ]
     },
     "execution_count": 16,
     "metadata": {},
     "output_type": "execute_result"
    }
   ],
   "source": [
    "df.day_of_week.value_counts().to_frame()"
   ]
  },
  {
   "cell_type": "markdown",
   "metadata": {},
   "source": [
    "## Narrowing down to California"
   ]
  },
  {
   "cell_type": "code",
   "execution_count": 17,
   "metadata": {},
   "outputs": [],
   "source": [
    "california=df[df['State']=='CA']"
   ]
  },
  {
   "cell_type": "code",
   "execution_count": 19,
   "metadata": {},
   "outputs": [
    {
     "data": {
      "text/plain": [
       "R    578616\n",
       "L     67350\n",
       "          1\n",
       "Name: Side, dtype: int64"
      ]
     },
     "execution_count": 19,
     "metadata": {},
     "output_type": "execute_result"
    }
   ],
   "source": [
    "california.Side.value_counts()"
   ]
  },
  {
   "cell_type": "code",
   "execution_count": 26,
   "metadata": {},
   "outputs": [
    {
     "name": "stderr",
     "output_type": "stream",
     "text": [
      "/opt/anaconda3/lib/python3.7/site-packages/ipykernel_launcher.py:1: SettingWithCopyWarning: \n",
      "A value is trying to be set on a copy of a slice from a DataFrame.\n",
      "Try using .loc[row_indexer,col_indexer] = value instead\n",
      "\n",
      "See the caveats in the documentation: http://pandas.pydata.org/pandas-docs/stable/user_guide/indexing.html#returning-a-view-versus-a-copy\n",
      "  \"\"\"Entry point for launching an IPython kernel.\n"
     ]
    }
   ],
   "source": [
    "california['Side']=california['Side'].str.replace(' ', 'R')"
   ]
  },
  {
   "cell_type": "code",
   "execution_count": 27,
   "metadata": {},
   "outputs": [
    {
     "data": {
      "text/plain": [
       "R    578617\n",
       "L     67350\n",
       "Name: Side, dtype: int64"
      ]
     },
     "execution_count": 27,
     "metadata": {},
     "output_type": "execute_result"
    }
   ],
   "source": [
    "california.Side.value_counts()"
   ]
  },
  {
   "cell_type": "code",
   "execution_count": 29,
   "metadata": {},
   "outputs": [
    {
     "data": {
      "text/plain": [
       "Index(['TMC', 'Severity', 'Start_Time', 'End_Time', 'Distance(mi)', 'Side',\n",
       "       'City', 'County', 'State', 'Zipcode', 'Weather_Timestamp',\n",
       "       'Temperature', 'Humidity_pct', 'Visibility_mi', 'Windspeed_mph',\n",
       "       'Weather_Condition', 'Amenity', 'Bump', 'Crossing', 'Give_Way',\n",
       "       'Junction', 'No_Exit', 'Railway', 'Roundabout', 'Station', 'Stop',\n",
       "       'Traffic_Calming', 'Traffic_Signal', 'Sunrise_Sunset', 'Civil_Twilight',\n",
       "       'Nautical_Twilight', 'Astronomical_Twilight', 'day_of_week'],\n",
       "      dtype='object')"
      ]
     },
     "execution_count": 29,
     "metadata": {},
     "output_type": "execute_result"
    }
   ],
   "source": [
    "california.columns"
   ]
  },
  {
   "cell_type": "code",
   "execution_count": 28,
   "metadata": {},
   "outputs": [
    {
     "data": {
      "text/html": [
       "<div>\n",
       "<style scoped>\n",
       "    .dataframe tbody tr th:only-of-type {\n",
       "        vertical-align: middle;\n",
       "    }\n",
       "\n",
       "    .dataframe tbody tr th {\n",
       "        vertical-align: top;\n",
       "    }\n",
       "\n",
       "    .dataframe thead th {\n",
       "        text-align: right;\n",
       "    }\n",
       "</style>\n",
       "<table border=\"1\" class=\"dataframe\">\n",
       "  <thead>\n",
       "    <tr style=\"text-align: right;\">\n",
       "      <th></th>\n",
       "      <th>TMC</th>\n",
       "      <th>Severity</th>\n",
       "      <th>Start_Time</th>\n",
       "      <th>End_Time</th>\n",
       "      <th>Distance(mi)</th>\n",
       "      <th>Side</th>\n",
       "      <th>City</th>\n",
       "      <th>County</th>\n",
       "      <th>State</th>\n",
       "      <th>Zipcode</th>\n",
       "      <th>...</th>\n",
       "      <th>Roundabout</th>\n",
       "      <th>Station</th>\n",
       "      <th>Stop</th>\n",
       "      <th>Traffic_Calming</th>\n",
       "      <th>Traffic_Signal</th>\n",
       "      <th>Sunrise_Sunset</th>\n",
       "      <th>Civil_Twilight</th>\n",
       "      <th>Nautical_Twilight</th>\n",
       "      <th>Astronomical_Twilight</th>\n",
       "      <th>day_of_week</th>\n",
       "    </tr>\n",
       "  </thead>\n",
       "  <tbody>\n",
       "    <tr>\n",
       "      <td>726</td>\n",
       "      <td>201.0</td>\n",
       "      <td>3</td>\n",
       "      <td>2016-06-21 10:34:40</td>\n",
       "      <td>2016-06-21 11:04:40</td>\n",
       "      <td>0.000</td>\n",
       "      <td>R</td>\n",
       "      <td>Vallejo</td>\n",
       "      <td>Solano</td>\n",
       "      <td>CA</td>\n",
       "      <td>94591</td>\n",
       "      <td>...</td>\n",
       "      <td>0</td>\n",
       "      <td>0</td>\n",
       "      <td>0</td>\n",
       "      <td>0</td>\n",
       "      <td>0</td>\n",
       "      <td>1</td>\n",
       "      <td>1</td>\n",
       "      <td>1</td>\n",
       "      <td>1</td>\n",
       "      <td>1</td>\n",
       "    </tr>\n",
       "    <tr>\n",
       "      <td>727</td>\n",
       "      <td>201.0</td>\n",
       "      <td>3</td>\n",
       "      <td>2016-06-21 10:30:16</td>\n",
       "      <td>2016-06-21 11:16:39</td>\n",
       "      <td>0.000</td>\n",
       "      <td>R</td>\n",
       "      <td>Hayward</td>\n",
       "      <td>Alameda</td>\n",
       "      <td>CA</td>\n",
       "      <td>94544</td>\n",
       "      <td>...</td>\n",
       "      <td>0</td>\n",
       "      <td>0</td>\n",
       "      <td>0</td>\n",
       "      <td>0</td>\n",
       "      <td>0</td>\n",
       "      <td>1</td>\n",
       "      <td>1</td>\n",
       "      <td>1</td>\n",
       "      <td>1</td>\n",
       "      <td>1</td>\n",
       "    </tr>\n",
       "    <tr>\n",
       "      <td>728</td>\n",
       "      <td>201.0</td>\n",
       "      <td>2</td>\n",
       "      <td>2016-06-21 10:49:14</td>\n",
       "      <td>2016-06-21 11:19:14</td>\n",
       "      <td>0.000</td>\n",
       "      <td>R</td>\n",
       "      <td>Walnut Creek</td>\n",
       "      <td>Contra Costa</td>\n",
       "      <td>CA</td>\n",
       "      <td>94595</td>\n",
       "      <td>...</td>\n",
       "      <td>0</td>\n",
       "      <td>0</td>\n",
       "      <td>0</td>\n",
       "      <td>0</td>\n",
       "      <td>0</td>\n",
       "      <td>1</td>\n",
       "      <td>1</td>\n",
       "      <td>1</td>\n",
       "      <td>1</td>\n",
       "      <td>1</td>\n",
       "    </tr>\n",
       "    <tr>\n",
       "      <td>729</td>\n",
       "      <td>201.0</td>\n",
       "      <td>3</td>\n",
       "      <td>2016-06-21 10:41:42</td>\n",
       "      <td>2016-06-21 11:11:42</td>\n",
       "      <td>0.000</td>\n",
       "      <td>R</td>\n",
       "      <td>Cupertino</td>\n",
       "      <td>Santa Clara</td>\n",
       "      <td>CA</td>\n",
       "      <td>95014</td>\n",
       "      <td>...</td>\n",
       "      <td>0</td>\n",
       "      <td>0</td>\n",
       "      <td>0</td>\n",
       "      <td>0</td>\n",
       "      <td>0</td>\n",
       "      <td>1</td>\n",
       "      <td>1</td>\n",
       "      <td>1</td>\n",
       "      <td>1</td>\n",
       "      <td>1</td>\n",
       "    </tr>\n",
       "    <tr>\n",
       "      <td>730</td>\n",
       "      <td>201.0</td>\n",
       "      <td>2</td>\n",
       "      <td>2016-06-21 10:16:26</td>\n",
       "      <td>2016-06-21 11:04:16</td>\n",
       "      <td>0.000</td>\n",
       "      <td>R</td>\n",
       "      <td>San Jose</td>\n",
       "      <td>Santa Clara</td>\n",
       "      <td>CA</td>\n",
       "      <td>95118</td>\n",
       "      <td>...</td>\n",
       "      <td>0</td>\n",
       "      <td>0</td>\n",
       "      <td>0</td>\n",
       "      <td>0</td>\n",
       "      <td>0</td>\n",
       "      <td>1</td>\n",
       "      <td>1</td>\n",
       "      <td>1</td>\n",
       "      <td>1</td>\n",
       "      <td>1</td>\n",
       "    </tr>\n",
       "    <tr>\n",
       "      <td>...</td>\n",
       "      <td>...</td>\n",
       "      <td>...</td>\n",
       "      <td>...</td>\n",
       "      <td>...</td>\n",
       "      <td>...</td>\n",
       "      <td>...</td>\n",
       "      <td>...</td>\n",
       "      <td>...</td>\n",
       "      <td>...</td>\n",
       "      <td>...</td>\n",
       "      <td>...</td>\n",
       "      <td>...</td>\n",
       "      <td>...</td>\n",
       "      <td>...</td>\n",
       "      <td>...</td>\n",
       "      <td>...</td>\n",
       "      <td>...</td>\n",
       "      <td>...</td>\n",
       "      <td>...</td>\n",
       "      <td>...</td>\n",
       "      <td>...</td>\n",
       "    </tr>\n",
       "    <tr>\n",
       "      <td>2898026</td>\n",
       "      <td>201.0</td>\n",
       "      <td>2</td>\n",
       "      <td>2019-08-23 18:03:25</td>\n",
       "      <td>2019-08-23 18:32:01</td>\n",
       "      <td>0.543</td>\n",
       "      <td>R</td>\n",
       "      <td>Riverside</td>\n",
       "      <td>Riverside</td>\n",
       "      <td>CA</td>\n",
       "      <td>92501</td>\n",
       "      <td>...</td>\n",
       "      <td>0</td>\n",
       "      <td>0</td>\n",
       "      <td>0</td>\n",
       "      <td>0</td>\n",
       "      <td>0</td>\n",
       "      <td>1</td>\n",
       "      <td>1</td>\n",
       "      <td>1</td>\n",
       "      <td>1</td>\n",
       "      <td>4</td>\n",
       "    </tr>\n",
       "    <tr>\n",
       "      <td>2898027</td>\n",
       "      <td>201.0</td>\n",
       "      <td>2</td>\n",
       "      <td>2019-08-23 19:11:30</td>\n",
       "      <td>2019-08-23 19:38:23</td>\n",
       "      <td>0.338</td>\n",
       "      <td>R</td>\n",
       "      <td>San Diego</td>\n",
       "      <td>San Diego</td>\n",
       "      <td>CA</td>\n",
       "      <td>92108</td>\n",
       "      <td>...</td>\n",
       "      <td>0</td>\n",
       "      <td>0</td>\n",
       "      <td>0</td>\n",
       "      <td>0</td>\n",
       "      <td>0</td>\n",
       "      <td>1</td>\n",
       "      <td>1</td>\n",
       "      <td>1</td>\n",
       "      <td>1</td>\n",
       "      <td>4</td>\n",
       "    </tr>\n",
       "    <tr>\n",
       "      <td>2898028</td>\n",
       "      <td>201.0</td>\n",
       "      <td>2</td>\n",
       "      <td>2019-08-23 19:00:21</td>\n",
       "      <td>2019-08-23 19:28:49</td>\n",
       "      <td>0.561</td>\n",
       "      <td>R</td>\n",
       "      <td>Orange</td>\n",
       "      <td>Orange</td>\n",
       "      <td>CA</td>\n",
       "      <td>92866</td>\n",
       "      <td>...</td>\n",
       "      <td>0</td>\n",
       "      <td>0</td>\n",
       "      <td>0</td>\n",
       "      <td>0</td>\n",
       "      <td>0</td>\n",
       "      <td>1</td>\n",
       "      <td>1</td>\n",
       "      <td>1</td>\n",
       "      <td>1</td>\n",
       "      <td>4</td>\n",
       "    </tr>\n",
       "    <tr>\n",
       "      <td>2898029</td>\n",
       "      <td>201.0</td>\n",
       "      <td>2</td>\n",
       "      <td>2019-08-23 19:00:21</td>\n",
       "      <td>2019-08-23 19:29:42</td>\n",
       "      <td>0.772</td>\n",
       "      <td>R</td>\n",
       "      <td>Culver City</td>\n",
       "      <td>Los Angeles</td>\n",
       "      <td>CA</td>\n",
       "      <td>90230</td>\n",
       "      <td>...</td>\n",
       "      <td>0</td>\n",
       "      <td>0</td>\n",
       "      <td>0</td>\n",
       "      <td>0</td>\n",
       "      <td>0</td>\n",
       "      <td>1</td>\n",
       "      <td>1</td>\n",
       "      <td>1</td>\n",
       "      <td>1</td>\n",
       "      <td>4</td>\n",
       "    </tr>\n",
       "    <tr>\n",
       "      <td>2898030</td>\n",
       "      <td>201.0</td>\n",
       "      <td>2</td>\n",
       "      <td>2019-08-23 18:52:06</td>\n",
       "      <td>2019-08-23 19:21:31</td>\n",
       "      <td>0.537</td>\n",
       "      <td>R</td>\n",
       "      <td>Highland</td>\n",
       "      <td>San Bernardino</td>\n",
       "      <td>CA</td>\n",
       "      <td>92346</td>\n",
       "      <td>...</td>\n",
       "      <td>0</td>\n",
       "      <td>0</td>\n",
       "      <td>0</td>\n",
       "      <td>0</td>\n",
       "      <td>0</td>\n",
       "      <td>1</td>\n",
       "      <td>1</td>\n",
       "      <td>1</td>\n",
       "      <td>1</td>\n",
       "      <td>4</td>\n",
       "    </tr>\n",
       "  </tbody>\n",
       "</table>\n",
       "<p>645967 rows × 33 columns</p>\n",
       "</div>"
      ],
      "text/plain": [
       "           TMC  Severity           Start_Time             End_Time  \\\n",
       "726      201.0         3  2016-06-21 10:34:40  2016-06-21 11:04:40   \n",
       "727      201.0         3  2016-06-21 10:30:16  2016-06-21 11:16:39   \n",
       "728      201.0         2  2016-06-21 10:49:14  2016-06-21 11:19:14   \n",
       "729      201.0         3  2016-06-21 10:41:42  2016-06-21 11:11:42   \n",
       "730      201.0         2  2016-06-21 10:16:26  2016-06-21 11:04:16   \n",
       "...        ...       ...                  ...                  ...   \n",
       "2898026  201.0         2  2019-08-23 18:03:25  2019-08-23 18:32:01   \n",
       "2898027  201.0         2  2019-08-23 19:11:30  2019-08-23 19:38:23   \n",
       "2898028  201.0         2  2019-08-23 19:00:21  2019-08-23 19:28:49   \n",
       "2898029  201.0         2  2019-08-23 19:00:21  2019-08-23 19:29:42   \n",
       "2898030  201.0         2  2019-08-23 18:52:06  2019-08-23 19:21:31   \n",
       "\n",
       "         Distance(mi) Side          City          County State  Zipcode  ...  \\\n",
       "726             0.000    R       Vallejo          Solano    CA    94591  ...   \n",
       "727             0.000    R       Hayward         Alameda    CA    94544  ...   \n",
       "728             0.000    R  Walnut Creek    Contra Costa    CA    94595  ...   \n",
       "729             0.000    R     Cupertino     Santa Clara    CA    95014  ...   \n",
       "730             0.000    R      San Jose     Santa Clara    CA    95118  ...   \n",
       "...               ...  ...           ...             ...   ...      ...  ...   \n",
       "2898026         0.543    R     Riverside       Riverside    CA    92501  ...   \n",
       "2898027         0.338    R     San Diego       San Diego    CA    92108  ...   \n",
       "2898028         0.561    R        Orange          Orange    CA    92866  ...   \n",
       "2898029         0.772    R   Culver City     Los Angeles    CA    90230  ...   \n",
       "2898030         0.537    R      Highland  San Bernardino    CA    92346  ...   \n",
       "\n",
       "        Roundabout  Station  Stop  Traffic_Calming  Traffic_Signal  \\\n",
       "726              0        0     0                0               0   \n",
       "727              0        0     0                0               0   \n",
       "728              0        0     0                0               0   \n",
       "729              0        0     0                0               0   \n",
       "730              0        0     0                0               0   \n",
       "...            ...      ...   ...              ...             ...   \n",
       "2898026          0        0     0                0               0   \n",
       "2898027          0        0     0                0               0   \n",
       "2898028          0        0     0                0               0   \n",
       "2898029          0        0     0                0               0   \n",
       "2898030          0        0     0                0               0   \n",
       "\n",
       "        Sunrise_Sunset  Civil_Twilight  Nautical_Twilight  \\\n",
       "726                  1               1                  1   \n",
       "727                  1               1                  1   \n",
       "728                  1               1                  1   \n",
       "729                  1               1                  1   \n",
       "730                  1               1                  1   \n",
       "...                ...             ...                ...   \n",
       "2898026              1               1                  1   \n",
       "2898027              1               1                  1   \n",
       "2898028              1               1                  1   \n",
       "2898029              1               1                  1   \n",
       "2898030              1               1                  1   \n",
       "\n",
       "         Astronomical_Twilight  day_of_week  \n",
       "726                          1            1  \n",
       "727                          1            1  \n",
       "728                          1            1  \n",
       "729                          1            1  \n",
       "730                          1            1  \n",
       "...                        ...          ...  \n",
       "2898026                      1            4  \n",
       "2898027                      1            4  \n",
       "2898028                      1            4  \n",
       "2898029                      1            4  \n",
       "2898030                      1            4  \n",
       "\n",
       "[645967 rows x 33 columns]"
      ]
     },
     "execution_count": 28,
     "metadata": {},
     "output_type": "execute_result"
    }
   ],
   "source": [
    "california"
   ]
  },
  {
   "cell_type": "markdown",
   "metadata": {},
   "source": [
    "## Extracting year for visualization"
   ]
  },
  {
   "cell_type": "code",
   "execution_count": 31,
   "metadata": {},
   "outputs": [
    {
     "name": "stderr",
     "output_type": "stream",
     "text": [
      "/opt/anaconda3/lib/python3.7/site-packages/ipykernel_launcher.py:1: SettingWithCopyWarning: \n",
      "A value is trying to be set on a copy of a slice from a DataFrame.\n",
      "Try using .loc[row_indexer,col_indexer] = value instead\n",
      "\n",
      "See the caveats in the documentation: http://pandas.pydata.org/pandas-docs/stable/user_guide/indexing.html#returning-a-view-versus-a-copy\n",
      "  \"\"\"Entry point for launching an IPython kernel.\n"
     ]
    }
   ],
   "source": [
    "california['month_year'] = pd.to_datetime(california['Start_Time']).dt.to_period('M')"
   ]
  },
  {
   "cell_type": "code",
   "execution_count": 43,
   "metadata": {},
   "outputs": [],
   "source": [
    "years_acc = california['month_year'].value_counts().to_frame()"
   ]
  },
  {
   "cell_type": "code",
   "execution_count": 44,
   "metadata": {},
   "outputs": [],
   "source": [
    "years_acc = years_acc.sort_index()"
   ]
  },
  {
   "cell_type": "code",
   "execution_count": 46,
   "metadata": {},
   "outputs": [],
   "source": [
    "years_acc.reset_index(inplace=True)"
   ]
  },
  {
   "cell_type": "code",
   "execution_count": 51,
   "metadata": {},
   "outputs": [],
   "source": [
    "years_acc.rename(columns={'index':'month_year', 'month_year':'accidents'}, inplace=True)"
   ]
  },
  {
   "cell_type": "code",
   "execution_count": 62,
   "metadata": {
    "scrolled": true
   },
   "outputs": [],
   "source": [
    "years_acc['month_year']=years_acc['month_year'].apply(lambda x: str(x))"
   ]
  },
  {
   "cell_type": "code",
   "execution_count": 113,
   "metadata": {},
   "outputs": [
    {
     "data": {
      "image/png": "[encoded data removed]",
      "text/plain": [
       "<Figure size 1440x648 with 1 Axes>"
      ]
     },
     "metadata": {},
     "output_type": "display_data"
    }
   ],
   "source": [
    "fig, ax = plt.subplots(figsize=(20,9))\n",
    "\n",
    "ax.plot(years_acc['month_year'],\n",
    "        years_acc['accidents'],\n",
    "        marker='o',\n",
    "        linestyle='dashed',\n",
    "        linewidth=3,\n",
    "        color='red'\n",
    ")\n",
    "\n",
    "ax.xaxis.set_tick_params(pad=20)\n",
    "ax.tick_params(axis='x',\n",
    "              pad=2,\n",
    "              grid_linewidth=1)\n",
    "plt.ylim(0,35000)\n",
    "plt.xticks(rotation=90,)\n",
    "plt.title('Time-Series: Vehicular Accidents in California',\n",
    "         fontsize=30)\n",
    "plt.xlabel('Month-Year: 2016-2019',\n",
    "          fontsize=30,\n",
    "          labelpad=20)\n",
    "plt.ylabel('Accidents',\n",
    "          fontsize=30)\n",
    "\n",
    "plt.tight_layout()\n",
    "plt.savefig('img/timeseries.jpg');"
   ]
  },
  {
   "cell_type": "markdown",
   "metadata": {},
   "source": [
    "# BEGIN Modeling"
   ]
  },
  {
   "cell_type": "code",
   "execution_count": null,
   "metadata": {},
   "outputs": [],
   "source": []
  },
  {
   "cell_type": "code",
   "execution_count": null,
   "metadata": {},
   "outputs": [],
   "source": []
  },
  {
   "cell_type": "code",
   "execution_count": null,
   "metadata": {},
   "outputs": [],
   "source": []
  },
  {
   "cell_type": "code",
   "execution_count": null,
   "metadata": {},
   "outputs": [],
   "source": []
  }
 ],
 "metadata": {
  "kernelspec": {
   "display_name": "Python 3",
   "language": "python",
   "name": "python3"
  },
  "language_info": {
   "codemirror_mode": {
    "name": "ipython",
    "version": 3
   },
   "file_extension": ".py",
   "mimetype": "text/x-python",
   "name": "python",
   "nbconvert_exporter": "python",
   "pygments_lexer": "ipython3",
   "version": "3.7.4"
  }
 },
 "nbformat": 4,
 "nbformat_minor": 2
}
